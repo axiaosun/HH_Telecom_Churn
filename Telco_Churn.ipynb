{
 "cells": [
  {
   "cell_type": "code",
   "execution_count": 1,
   "metadata": {},
   "outputs": [
    {
     "data": {
      "text/html": [
       "<script>requirejs.config({paths: { 'plotly': ['https://cdn.plot.ly/plotly-latest.min']},});if(!window.Plotly) {{require(['plotly'],function(plotly) {window.Plotly=plotly;});}}</script>"
      ],
      "text/vnd.plotly.v1+html": [
       "<script>requirejs.config({paths: { 'plotly': ['https://cdn.plot.ly/plotly-latest.min']},});if(!window.Plotly) {{require(['plotly'],function(plotly) {window.Plotly=plotly;});}}</script>"
      ]
     },
     "metadata": {},
     "output_type": "display_data"
    }
   ],
   "source": [
    "import pandas as pd\n",
    "import numpy as np\n",
    "\n",
    "import matplotlib.pyplot as plt\n",
    "import matplotlib.ticker as mtick\n",
    "%matplotlib inline\n",
    "\n",
    "import seaborn as sns\n",
    "\n",
    "import plotly.offline as py\n",
    "py.init_notebook_mode(connected=True)\n",
    "import plotly.graph_objs as go\n",
    "\n",
    "from sklearn.ensemble import RandomForestClassifier"
   ]
  },
  {
   "cell_type": "markdown",
   "metadata": {},
   "source": [
    "## Data Overview"
   ]
  },
  {
   "cell_type": "code",
   "execution_count": 2,
   "metadata": {},
   "outputs": [
    {
     "data": {
      "text/html": [
       "<div>\n",
       "<style scoped>\n",
       "    .dataframe tbody tr th:only-of-type {\n",
       "        vertical-align: middle;\n",
       "    }\n",
       "\n",
       "    .dataframe tbody tr th {\n",
       "        vertical-align: top;\n",
       "    }\n",
       "\n",
       "    .dataframe thead th {\n",
       "        text-align: right;\n",
       "    }\n",
       "</style>\n",
       "<table border=\"1\" class=\"dataframe\">\n",
       "  <thead>\n",
       "    <tr style=\"text-align: right;\">\n",
       "      <th></th>\n",
       "      <th>customerID</th>\n",
       "      <th>gender</th>\n",
       "      <th>SeniorCitizen</th>\n",
       "      <th>Partner</th>\n",
       "      <th>Dependents</th>\n",
       "      <th>tenure</th>\n",
       "      <th>PhoneService</th>\n",
       "      <th>MultipleLines</th>\n",
       "      <th>InternetService</th>\n",
       "      <th>OnlineSecurity</th>\n",
       "      <th>...</th>\n",
       "      <th>DeviceProtection</th>\n",
       "      <th>TechSupport</th>\n",
       "      <th>StreamingTV</th>\n",
       "      <th>StreamingMovies</th>\n",
       "      <th>Contract</th>\n",
       "      <th>PaperlessBilling</th>\n",
       "      <th>PaymentMethod</th>\n",
       "      <th>MonthlyCharges</th>\n",
       "      <th>TotalCharges</th>\n",
       "      <th>Churn</th>\n",
       "    </tr>\n",
       "  </thead>\n",
       "  <tbody>\n",
       "    <tr>\n",
       "      <th>0</th>\n",
       "      <td>7590-VHVEG</td>\n",
       "      <td>Female</td>\n",
       "      <td>0</td>\n",
       "      <td>Yes</td>\n",
       "      <td>No</td>\n",
       "      <td>1</td>\n",
       "      <td>No</td>\n",
       "      <td>No phone service</td>\n",
       "      <td>DSL</td>\n",
       "      <td>No</td>\n",
       "      <td>...</td>\n",
       "      <td>No</td>\n",
       "      <td>No</td>\n",
       "      <td>No</td>\n",
       "      <td>No</td>\n",
       "      <td>Month-to-month</td>\n",
       "      <td>Yes</td>\n",
       "      <td>Electronic check</td>\n",
       "      <td>29.85</td>\n",
       "      <td>29.85</td>\n",
       "      <td>No</td>\n",
       "    </tr>\n",
       "    <tr>\n",
       "      <th>1</th>\n",
       "      <td>5575-GNVDE</td>\n",
       "      <td>Male</td>\n",
       "      <td>0</td>\n",
       "      <td>No</td>\n",
       "      <td>No</td>\n",
       "      <td>34</td>\n",
       "      <td>Yes</td>\n",
       "      <td>No</td>\n",
       "      <td>DSL</td>\n",
       "      <td>Yes</td>\n",
       "      <td>...</td>\n",
       "      <td>Yes</td>\n",
       "      <td>No</td>\n",
       "      <td>No</td>\n",
       "      <td>No</td>\n",
       "      <td>One year</td>\n",
       "      <td>No</td>\n",
       "      <td>Mailed check</td>\n",
       "      <td>56.95</td>\n",
       "      <td>1889.5</td>\n",
       "      <td>No</td>\n",
       "    </tr>\n",
       "    <tr>\n",
       "      <th>2</th>\n",
       "      <td>3668-QPYBK</td>\n",
       "      <td>Male</td>\n",
       "      <td>0</td>\n",
       "      <td>No</td>\n",
       "      <td>No</td>\n",
       "      <td>2</td>\n",
       "      <td>Yes</td>\n",
       "      <td>No</td>\n",
       "      <td>DSL</td>\n",
       "      <td>Yes</td>\n",
       "      <td>...</td>\n",
       "      <td>No</td>\n",
       "      <td>No</td>\n",
       "      <td>No</td>\n",
       "      <td>No</td>\n",
       "      <td>Month-to-month</td>\n",
       "      <td>Yes</td>\n",
       "      <td>Mailed check</td>\n",
       "      <td>53.85</td>\n",
       "      <td>108.15</td>\n",
       "      <td>Yes</td>\n",
       "    </tr>\n",
       "    <tr>\n",
       "      <th>3</th>\n",
       "      <td>7795-CFOCW</td>\n",
       "      <td>Male</td>\n",
       "      <td>0</td>\n",
       "      <td>No</td>\n",
       "      <td>No</td>\n",
       "      <td>45</td>\n",
       "      <td>No</td>\n",
       "      <td>No phone service</td>\n",
       "      <td>DSL</td>\n",
       "      <td>Yes</td>\n",
       "      <td>...</td>\n",
       "      <td>Yes</td>\n",
       "      <td>Yes</td>\n",
       "      <td>No</td>\n",
       "      <td>No</td>\n",
       "      <td>One year</td>\n",
       "      <td>No</td>\n",
       "      <td>Bank transfer (automatic)</td>\n",
       "      <td>42.30</td>\n",
       "      <td>1840.75</td>\n",
       "      <td>No</td>\n",
       "    </tr>\n",
       "    <tr>\n",
       "      <th>4</th>\n",
       "      <td>9237-HQITU</td>\n",
       "      <td>Female</td>\n",
       "      <td>0</td>\n",
       "      <td>No</td>\n",
       "      <td>No</td>\n",
       "      <td>2</td>\n",
       "      <td>Yes</td>\n",
       "      <td>No</td>\n",
       "      <td>Fiber optic</td>\n",
       "      <td>No</td>\n",
       "      <td>...</td>\n",
       "      <td>No</td>\n",
       "      <td>No</td>\n",
       "      <td>No</td>\n",
       "      <td>No</td>\n",
       "      <td>Month-to-month</td>\n",
       "      <td>Yes</td>\n",
       "      <td>Electronic check</td>\n",
       "      <td>70.70</td>\n",
       "      <td>151.65</td>\n",
       "      <td>Yes</td>\n",
       "    </tr>\n",
       "  </tbody>\n",
       "</table>\n",
       "<p>5 rows × 21 columns</p>\n",
       "</div>"
      ],
      "text/plain": [
       "   customerID  gender  SeniorCitizen Partner Dependents  tenure PhoneService  \\\n",
       "0  7590-VHVEG  Female              0     Yes         No       1           No   \n",
       "1  5575-GNVDE    Male              0      No         No      34          Yes   \n",
       "2  3668-QPYBK    Male              0      No         No       2          Yes   \n",
       "3  7795-CFOCW    Male              0      No         No      45           No   \n",
       "4  9237-HQITU  Female              0      No         No       2          Yes   \n",
       "\n",
       "      MultipleLines InternetService OnlineSecurity  ...  DeviceProtection  \\\n",
       "0  No phone service             DSL             No  ...                No   \n",
       "1                No             DSL            Yes  ...               Yes   \n",
       "2                No             DSL            Yes  ...                No   \n",
       "3  No phone service             DSL            Yes  ...               Yes   \n",
       "4                No     Fiber optic             No  ...                No   \n",
       "\n",
       "  TechSupport StreamingTV StreamingMovies        Contract PaperlessBilling  \\\n",
       "0          No          No              No  Month-to-month              Yes   \n",
       "1          No          No              No        One year               No   \n",
       "2          No          No              No  Month-to-month              Yes   \n",
       "3         Yes          No              No        One year               No   \n",
       "4          No          No              No  Month-to-month              Yes   \n",
       "\n",
       "               PaymentMethod MonthlyCharges  TotalCharges Churn  \n",
       "0           Electronic check          29.85         29.85    No  \n",
       "1               Mailed check          56.95        1889.5    No  \n",
       "2               Mailed check          53.85        108.15   Yes  \n",
       "3  Bank transfer (automatic)          42.30       1840.75    No  \n",
       "4           Electronic check          70.70        151.65   Yes  \n",
       "\n",
       "[5 rows x 21 columns]"
      ]
     },
     "execution_count": 2,
     "metadata": {},
     "output_type": "execute_result"
    }
   ],
   "source": [
    "df = pd.read_csv('WA_Fn-UseC_-Telco-Customer-Churn.csv')\n",
    "df.head()"
   ]
  },
  {
   "cell_type": "code",
   "execution_count": 3,
   "metadata": {},
   "outputs": [
    {
     "name": "stdout",
     "output_type": "stream",
     "text": [
      "<class 'pandas.core.frame.DataFrame'>\n",
      "RangeIndex: 7043 entries, 0 to 7042\n",
      "Data columns (total 21 columns):\n",
      "customerID          7043 non-null object\n",
      "gender              7043 non-null object\n",
      "SeniorCitizen       7043 non-null int64\n",
      "Partner             7043 non-null object\n",
      "Dependents          7043 non-null object\n",
      "tenure              7043 non-null int64\n",
      "PhoneService        7043 non-null object\n",
      "MultipleLines       7043 non-null object\n",
      "InternetService     7043 non-null object\n",
      "OnlineSecurity      7043 non-null object\n",
      "OnlineBackup        7043 non-null object\n",
      "DeviceProtection    7043 non-null object\n",
      "TechSupport         7043 non-null object\n",
      "StreamingTV         7043 non-null object\n",
      "StreamingMovies     7043 non-null object\n",
      "Contract            7043 non-null object\n",
      "PaperlessBilling    7043 non-null object\n",
      "PaymentMethod       7043 non-null object\n",
      "MonthlyCharges      7043 non-null float64\n",
      "TotalCharges        7043 non-null object\n",
      "Churn               7043 non-null object\n",
      "dtypes: float64(1), int64(2), object(18)\n",
      "memory usage: 1.1+ MB\n"
     ]
    }
   ],
   "source": [
    "df.info()"
   ]
  },
  {
   "cell_type": "code",
   "execution_count": 4,
   "metadata": {},
   "outputs": [
    {
     "name": "stdout",
     "output_type": "stream",
     "text": [
      "7043\n",
      "21\n"
     ]
    }
   ],
   "source": [
    "# Rows\n",
    "print(df.shape[0])\n",
    "# Columns\n",
    "print(df.shape[1])"
   ]
  },
  {
   "cell_type": "code",
   "execution_count": 5,
   "metadata": {},
   "outputs": [
    {
     "name": "stdout",
     "output_type": "stream",
     "text": [
      "0\n"
     ]
    }
   ],
   "source": [
    "# Missing values\n",
    "\n",
    "print(df.isnull().sum().values.sum())"
   ]
  },
  {
   "cell_type": "code",
   "execution_count": 6,
   "metadata": {},
   "outputs": [
    {
     "name": "stdout",
     "output_type": "stream",
     "text": [
      "customerID          7043\n",
      "gender                 2\n",
      "SeniorCitizen          2\n",
      "Partner                2\n",
      "Dependents             2\n",
      "tenure                73\n",
      "PhoneService           2\n",
      "MultipleLines          3\n",
      "InternetService        3\n",
      "OnlineSecurity         3\n",
      "OnlineBackup           3\n",
      "DeviceProtection       3\n",
      "TechSupport            3\n",
      "StreamingTV            3\n",
      "StreamingMovies        3\n",
      "Contract               3\n",
      "PaperlessBilling       2\n",
      "PaymentMethod          4\n",
      "MonthlyCharges      1585\n",
      "TotalCharges        6531\n",
      "Churn                  2\n",
      "dtype: int64\n"
     ]
    }
   ],
   "source": [
    "# Unique values\n",
    "\n",
    "print(df.nunique())"
   ]
  },
  {
   "cell_type": "markdown",
   "metadata": {},
   "source": [
    "## Data Engineering"
   ]
  },
  {
   "cell_type": "code",
   "execution_count": 7,
   "metadata": {},
   "outputs": [],
   "source": [
    "# Convert some object values to float type\n",
    "df['MonthlyCharges'] = df['MonthlyCharges'].astype(float)\n",
    "#df['TotalCharges'] = df['TotalCharges'].astype(float)\n",
    "\n",
    "# There was an error when trying to convert total charges to float type, so we need to fix the spaces by replacing that with null values\n",
    "df['TotalCharges'] = df[\"TotalCharges\"].replace(\" \",np.nan)\n",
    "\n",
    "df['TotalCharges'] = df['TotalCharges'].astype(float)"
   ]
  },
  {
   "cell_type": "code",
   "execution_count": 8,
   "metadata": {},
   "outputs": [
    {
     "name": "stdout",
     "output_type": "stream",
     "text": [
      "count    7032.000000\n",
      "mean     2283.300441\n",
      "std      2266.771362\n",
      "min        18.800000\n",
      "25%       401.450000\n",
      "50%      1397.475000\n",
      "75%      3794.737500\n",
      "max      8684.800000\n",
      "Name: TotalCharges, dtype: float64\n"
     ]
    },
    {
     "data": {
      "text/plain": [
       "11"
      ]
     },
     "execution_count": 8,
     "metadata": {},
     "output_type": "execute_result"
    }
   ],
   "source": [
    "print(df.TotalCharges.describe())\n",
    "df.TotalCharges.isnull().sum()"
   ]
  },
  {
   "cell_type": "code",
   "execution_count": 9,
   "metadata": {},
   "outputs": [
    {
     "name": "stdout",
     "output_type": "stream",
     "text": [
      "count    7043.000000\n",
      "mean       64.761692\n",
      "std        30.090047\n",
      "min        18.250000\n",
      "25%        35.500000\n",
      "50%        70.350000\n",
      "75%        89.850000\n",
      "max       118.750000\n",
      "Name: MonthlyCharges, dtype: float64\n"
     ]
    },
    {
     "data": {
      "text/plain": [
       "0"
      ]
     },
     "execution_count": 9,
     "metadata": {},
     "output_type": "execute_result"
    }
   ],
   "source": [
    "print(df.MonthlyCharges.describe())\n",
    "df.MonthlyCharges.isnull().sum()"
   ]
  },
  {
   "cell_type": "code",
   "execution_count": 10,
   "metadata": {},
   "outputs": [],
   "source": [
    "# Replace null values in TotalCharges with tenure (in months) * monthlycharges\n",
    "\n",
    "df.TotalCharges.fillna(value = df.tenure *  df.MonthlyCharges, inplace = True)"
   ]
  },
  {
   "cell_type": "code",
   "execution_count": 11,
   "metadata": {},
   "outputs": [],
   "source": [
    "# Convert some int values to categorical type\n",
    "\n",
    "df['SeniorCitizen'] = df.SeniorCitizen.astype('object')"
   ]
  },
  {
   "cell_type": "markdown",
   "metadata": {},
   "source": [
    "## Data Exploration"
   ]
  },
  {
   "cell_type": "code",
   "execution_count": 12,
   "metadata": {},
   "outputs": [
    {
     "data": {
      "text/html": [
       "<div>\n",
       "<style scoped>\n",
       "    .dataframe tbody tr th:only-of-type {\n",
       "        vertical-align: middle;\n",
       "    }\n",
       "\n",
       "    .dataframe tbody tr th {\n",
       "        vertical-align: top;\n",
       "    }\n",
       "\n",
       "    .dataframe thead th {\n",
       "        text-align: right;\n",
       "    }\n",
       "</style>\n",
       "<table border=\"1\" class=\"dataframe\">\n",
       "  <thead>\n",
       "    <tr style=\"text-align: right;\">\n",
       "      <th></th>\n",
       "      <th>tenure</th>\n",
       "      <th>MonthlyCharges</th>\n",
       "      <th>TotalCharges</th>\n",
       "    </tr>\n",
       "  </thead>\n",
       "  <tbody>\n",
       "    <tr>\n",
       "      <th>count</th>\n",
       "      <td>7043.0</td>\n",
       "      <td>7043.0</td>\n",
       "      <td>7043.0</td>\n",
       "    </tr>\n",
       "    <tr>\n",
       "      <th>mean</th>\n",
       "      <td>32.0</td>\n",
       "      <td>65.0</td>\n",
       "      <td>2280.0</td>\n",
       "    </tr>\n",
       "    <tr>\n",
       "      <th>std</th>\n",
       "      <td>25.0</td>\n",
       "      <td>30.0</td>\n",
       "      <td>2267.0</td>\n",
       "    </tr>\n",
       "    <tr>\n",
       "      <th>min</th>\n",
       "      <td>0.0</td>\n",
       "      <td>18.0</td>\n",
       "      <td>0.0</td>\n",
       "    </tr>\n",
       "    <tr>\n",
       "      <th>25%</th>\n",
       "      <td>9.0</td>\n",
       "      <td>36.0</td>\n",
       "      <td>399.0</td>\n",
       "    </tr>\n",
       "    <tr>\n",
       "      <th>50%</th>\n",
       "      <td>29.0</td>\n",
       "      <td>70.0</td>\n",
       "      <td>1395.0</td>\n",
       "    </tr>\n",
       "    <tr>\n",
       "      <th>75%</th>\n",
       "      <td>55.0</td>\n",
       "      <td>90.0</td>\n",
       "      <td>3787.0</td>\n",
       "    </tr>\n",
       "    <tr>\n",
       "      <th>max</th>\n",
       "      <td>72.0</td>\n",
       "      <td>119.0</td>\n",
       "      <td>8685.0</td>\n",
       "    </tr>\n",
       "  </tbody>\n",
       "</table>\n",
       "</div>"
      ],
      "text/plain": [
       "       tenure  MonthlyCharges  TotalCharges\n",
       "count  7043.0          7043.0        7043.0\n",
       "mean     32.0            65.0        2280.0\n",
       "std      25.0            30.0        2267.0\n",
       "min       0.0            18.0           0.0\n",
       "25%       9.0            36.0         399.0\n",
       "50%      29.0            70.0        1395.0\n",
       "75%      55.0            90.0        3787.0\n",
       "max      72.0           119.0        8685.0"
      ]
     },
     "execution_count": 12,
     "metadata": {},
     "output_type": "execute_result"
    }
   ],
   "source": [
    "df.describe().round()"
   ]
  },
  {
   "cell_type": "code",
   "execution_count": 13,
   "metadata": {},
   "outputs": [
    {
     "data": {
      "image/png": "[encoded data removed]",
      "text/plain": [
       "<Figure size 468x187.2 with 1 Axes>"
      ]
     },
     "metadata": {},
     "output_type": "display_data"
    }
   ],
   "source": [
    "# Analyze target variable\n",
    "ax = sns.catplot(y=\"Churn\", kind=\"count\", data=df, height=2.6, aspect=2.5, orient='h')"
   ]
  },
  {
   "cell_type": "code",
   "execution_count": 14,
   "metadata": {},
   "outputs": [
    {
     "data": {
      "text/plain": [
       "<matplotlib.axes._subplots.AxesSubplot at 0x7fa6cbf90cc0>"
      ]
     },
     "execution_count": 14,
     "metadata": {},
     "output_type": "execute_result"
    },
    {
     "data": {
      "image/png": "[encoded data removed]",
      "text/plain": [
       "<Figure size 432x288 with 1 Axes>"
      ]
     },
     "metadata": {},
     "output_type": "display_data"
    }
   ],
   "source": [
    "df['tenure'].hist(bins = 20)"
   ]
  },
  {
   "cell_type": "markdown",
   "metadata": {},
   "source": [
    "We can see that 50% of customers stay with Telecom for at least 29 months. The average monthly charge is 65. The average total charge of a customer is 2,280."
   ]
  },
  {
   "cell_type": "code",
   "execution_count": 15,
   "metadata": {},
   "outputs": [
    {
     "name": "stderr",
     "output_type": "stream",
     "text": [
      "/usr/lib/python3/dist-packages/scipy/stats/stats.py:1857: FutureWarning:\n",
      "\n",
      "Using a non-tuple sequence for multidimensional indexing is deprecated; use `arr[tuple(seq)]` instead of `arr[seq]`. In the future this will be interpreted as an array index, `arr[np.array(seq)]`, which will result either in an error or a different result.\n",
      "\n"
     ]
    },
    {
     "data": {
      "image/png": "[encoded data removed]",
      "text/plain": [
       "<Figure size 720x360 with 1 Axes>"
      ]
     },
     "metadata": {},
     "output_type": "display_data"
    }
   ],
   "source": [
    "# Let's look at the Kernel Density Estimation between churn and the numerical variables to begin with:\n",
    "\n",
    "plt.figure(figsize=(10, 5))\n",
    "plt.title(\"KDE for {}\".format('Tenure'))\n",
    "ax0 = sns.kdeplot(df[df['Churn'] == 'No']['tenure'].dropna(), color= 'navy', label= 'Churn: No', shade = True)\n",
    "ax1 = sns.kdeplot(df[df['Churn'] == 'Yes']['tenure'].dropna(), color= 'red', label= 'Churn: Yes', shade = True)"
   ]
  },
  {
   "cell_type": "code",
   "execution_count": 16,
   "metadata": {},
   "outputs": [
    {
     "name": "stderr",
     "output_type": "stream",
     "text": [
      "/usr/lib/python3/dist-packages/scipy/stats/stats.py:1857: FutureWarning:\n",
      "\n",
      "Using a non-tuple sequence for multidimensional indexing is deprecated; use `arr[tuple(seq)]` instead of `arr[seq]`. In the future this will be interpreted as an array index, `arr[np.array(seq)]`, which will result either in an error or a different result.\n",
      "\n"
     ]
    },
    {
     "data": {
      "image/png": "[encoded data removed]",
      "text/plain": [
       "<Figure size 720x360 with 1 Axes>"
      ]
     },
     "metadata": {},
     "output_type": "display_data"
    }
   ],
   "source": [
    "plt.figure(figsize=(10, 5))\n",
    "plt.title(\"KDE for {}\".format('Monthly Charges'))\n",
    "ax0 = sns.kdeplot(df[df['Churn'] == 'No']['MonthlyCharges'].dropna(), color= 'navy', label= 'Churn: No', shade = True)\n",
    "ax1 = sns.kdeplot(df[df['Churn'] == 'Yes']['MonthlyCharges'].dropna(), color= 'red', label= 'Churn: Yes', shade = True)"
   ]
  },
  {
   "cell_type": "code",
   "execution_count": 17,
   "metadata": {},
   "outputs": [
    {
     "name": "stderr",
     "output_type": "stream",
     "text": [
      "/usr/lib/python3/dist-packages/scipy/stats/stats.py:1857: FutureWarning:\n",
      "\n",
      "Using a non-tuple sequence for multidimensional indexing is deprecated; use `arr[tuple(seq)]` instead of `arr[seq]`. In the future this will be interpreted as an array index, `arr[np.array(seq)]`, which will result either in an error or a different result.\n",
      "\n"
     ]
    },
    {
     "data": {
      "image/png": "[encoded data removed]",
      "text/plain": [
       "<Figure size 720x360 with 1 Axes>"
      ]
     },
     "metadata": {},
     "output_type": "display_data"
    }
   ],
   "source": [
    "plt.figure(figsize=(10, 5))\n",
    "plt.title(\"KDE for {}\".format('Total Charges'))\n",
    "ax0 = sns.kdeplot(df[df['Churn'] == 'No']['TotalCharges'].dropna(), color= 'navy', label= 'Churn: No', shade = True)\n",
    "ax1 = sns.kdeplot(df[df['Churn'] == 'Yes']['TotalCharges'].dropna(), color= 'red', label= 'Churn: Yes', shade = True)"
   ]
  },
  {
   "cell_type": "code",
   "execution_count": 18,
   "metadata": {},
   "outputs": [
    {
     "data": {
      "image/png": "[encoded data removed]",
      "text/plain": [
       "<Figure size 432x288 with 1 Axes>"
      ]
     },
     "metadata": {},
     "output_type": "display_data"
    }
   ],
   "source": [
    "ax = sns.catplot(x=\"Churn\", y=\"MonthlyCharges\", kind=\"box\",\n",
    "                 data=df, height=4, aspect=1.5)"
   ]
  },
  {
   "cell_type": "code",
   "execution_count": 19,
   "metadata": {},
   "outputs": [
    {
     "data": {
      "image/png": "[encoded data removed]",
      "text/plain": [
       "<Figure size 432x288 with 1 Axes>"
      ]
     },
     "metadata": {},
     "output_type": "display_data"
    }
   ],
   "source": [
    "ax = sns.catplot(x=\"Churn\", y=\"TotalCharges\", kind=\"box\",\n",
    "                 data=df, height=4, aspect=1.5)"
   ]
  },
  {
   "cell_type": "code",
   "execution_count": 20,
   "metadata": {},
   "outputs": [],
   "source": [
    "# To get more usage out of the tenure column, we'll change tenure into categorical data too\n",
    "\n",
    "def tenure_cat(df) :\n",
    "    \n",
    "    if df[\"tenure\"] <= 12 :\n",
    "        return \"Tenure_0-12\"\n",
    "    elif (df[\"tenure\"] > 12) & (df[\"tenure\"] <= 24 ):\n",
    "        return \"Tenure_12-24\"\n",
    "    elif (df[\"tenure\"] > 24) & (df[\"tenure\"] <= 48) :\n",
    "        return \"Tenure_24-48\"\n",
    "    elif (df[\"tenure\"] > 48) & (df[\"tenure\"] <= 60) :\n",
    "        return \"Tenure_48-60\"\n",
    "    elif df[\"tenure\"] > 60 :\n",
    "        return \"Tenure_60+\"\n",
    "\n",
    "df[\"tenure_group\"] = df.apply(lambda df:tenure_cat(df),axis = 1)"
   ]
  },
  {
   "cell_type": "code",
   "execution_count": 21,
   "metadata": {},
   "outputs": [
    {
     "data": {
      "text/plain": [
       "Text(0.5,1,'Average Total Spend by Tenure Group')"
      ]
     },
     "execution_count": 21,
     "metadata": {},
     "output_type": "execute_result"
    },
    {
     "data": {
      "image/png": "[encoded data removed]",
      "text/plain": [
       "<Figure size 1080x576 with 1 Axes>"
      ]
     },
     "metadata": {},
     "output_type": "display_data"
    }
   ],
   "source": [
    "avg_by_tenure = df.groupby('tenure_group', as_index=False).agg({'TotalCharges':['count', 'sum']})\n",
    "\n",
    "avg_by_tenure.columns = ['tenure_group', 'totalcharges_qty', 'totalcharges_sum']\n",
    "\n",
    "avg_by_tenure['avg_by_tenure'] = avg_by_tenure['totalcharges_sum']/avg_by_tenure['totalcharges_qty']\n",
    "\n",
    "avg_by_tenure = avg_by_tenure.sort_values(by='avg_by_tenure', ascending = False)\n",
    "\n",
    "plt.figure(figsize=(15,8))\n",
    "ax = sns.barplot(x=\"avg_by_tenure\", y=\"tenure_group\", data=avg_by_tenure)\n",
    "ax.set_title('Average Total Spend by Tenure Group')"
   ]
  },
  {
   "cell_type": "code",
   "execution_count": 22,
   "metadata": {
    "scrolled": true
   },
   "outputs": [
    {
     "data": {
      "application/vnd.plotly.v1+json": {
       "data": [
        {
         "marker": {
          "line": {
           "color": "black",
           "width": 0.5
          }
         },
         "name": "Churn Customers",
         "opacity": 0.9,
         "type": "bar",
         "uid": "1f05259e-e6f1-11e8-90d2-e470b8e32c80",
         "x": [
          "Tenure_0-12",
          "Tenure_24-48",
          "Tenure_12-24",
          "Tenure_48-60",
          "Tenure_60+"
         ],
         "y": [
          1037,
          325,
          294,
          120,
          93
         ]
        },
        {
         "marker": {
          "line": {
           "color": "black",
           "width": 0.5
          }
         },
         "name": "Non Churn Customers",
         "opacity": 0.9,
         "type": "bar",
         "uid": "1f052be8-e6f1-11e8-90d2-e470b8e32c80",
         "x": [
          "Tenure_60+",
          "Tenure_24-48",
          "Tenure_0-12",
          "Tenure_12-24",
          "Tenure_48-60"
         ],
         "y": [
          1314,
          1269,
          1149,
          730,
          712
         ]
        }
       ],
       "layout": {
        "paper_bgcolor": "rgb(243,243,243)",
        "plot_bgcolor": "rgb(243,243,243)",
        "title": "Churn in tenure groups",
        "xaxis": {
         "gridcolor": "rgb(255, 255, 255)",
         "gridwidth": 2,
         "ticklen": 5,
         "title": "tenure group",
         "zerolinewidth": 1
        },
        "yaxis": {
         "gridcolor": "rgb(255, 255, 255)",
         "gridwidth": 2,
         "ticklen": 5,
         "title": "count",
         "zerolinewidth": 1
        }
       }
      },
      "text/html": [
       "<div id=\"c09c4e6d-ec70-4244-a9da-f2e62f177c39\" style=\"height: 525px; width: 100%;\" class=\"plotly-graph-div\"></div><script type=\"text/javascript\">require([\"plotly\"], function(Plotly) { window.PLOTLYENV=window.PLOTLYENV || {};window.PLOTLYENV.BASE_URL=\"https://plot.ly\";Plotly.newPlot(\"c09c4e6d-ec70-4244-a9da-f2e62f177c39\", [{\"type\": \"bar\", \"marker\": {\"line\": {\"width\": 0.5, \"color\": \"black\"}}, \"name\": \"Churn Customers\", \"x\": [\"Tenure_0-12\", \"Tenure_24-48\", \"Tenure_12-24\", \"Tenure_48-60\", \"Tenure_60+\"], \"opacity\": 0.9, \"uid\": \"1f05259e-e6f1-11e8-90d2-e470b8e32c80\", \"y\": [1037, 325, 294, 120, 93]}, {\"type\": \"bar\", \"marker\": {\"line\": {\"width\": 0.5, \"color\": \"black\"}}, \"name\": \"Non Churn Customers\", \"x\": [\"Tenure_60+\", \"Tenure_24-48\", \"Tenure_0-12\", \"Tenure_12-24\", \"Tenure_48-60\"], \"opacity\": 0.9, \"uid\": \"1f052be8-e6f1-11e8-90d2-e470b8e32c80\", \"y\": [1314, 1269, 1149, 730, 712]}], {\"xaxis\": {\"ticklen\": 5, \"gridwidth\": 2, \"zerolinewidth\": 1, \"title\": \"tenure group\", \"gridcolor\": \"rgb(255, 255, 255)\"}, \"paper_bgcolor\": \"rgb(243,243,243)\", \"title\": \"Churn in tenure groups\", \"yaxis\": {\"ticklen\": 5, \"gridwidth\": 2, \"zerolinewidth\": 1, \"title\": \"count\", \"gridcolor\": \"rgb(255, 255, 255)\"}, \"plot_bgcolor\": \"rgb(243,243,243)\"}, {\"linkText\": \"Export to plot.ly\", \"showLink\": true})});</script>"
      ],
      "text/vnd.plotly.v1+html": [
       "<div id=\"c09c4e6d-ec70-4244-a9da-f2e62f177c39\" style=\"height: 525px; width: 100%;\" class=\"plotly-graph-div\"></div><script type=\"text/javascript\">require([\"plotly\"], function(Plotly) { window.PLOTLYENV=window.PLOTLYENV || {};window.PLOTLYENV.BASE_URL=\"https://plot.ly\";Plotly.newPlot(\"c09c4e6d-ec70-4244-a9da-f2e62f177c39\", [{\"type\": \"bar\", \"marker\": {\"line\": {\"width\": 0.5, \"color\": \"black\"}}, \"name\": \"Churn Customers\", \"x\": [\"Tenure_0-12\", \"Tenure_24-48\", \"Tenure_12-24\", \"Tenure_48-60\", \"Tenure_60+\"], \"opacity\": 0.9, \"uid\": \"1f05259e-e6f1-11e8-90d2-e470b8e32c80\", \"y\": [1037, 325, 294, 120, 93]}, {\"type\": \"bar\", \"marker\": {\"line\": {\"width\": 0.5, \"color\": \"black\"}}, \"name\": \"Non Churn Customers\", \"x\": [\"Tenure_60+\", \"Tenure_24-48\", \"Tenure_0-12\", \"Tenure_12-24\", \"Tenure_48-60\"], \"opacity\": 0.9, \"uid\": \"1f052be8-e6f1-11e8-90d2-e470b8e32c80\", \"y\": [1314, 1269, 1149, 730, 712]}], {\"xaxis\": {\"ticklen\": 5, \"gridwidth\": 2, \"zerolinewidth\": 1, \"title\": \"tenure group\", \"gridcolor\": \"rgb(255, 255, 255)\"}, \"paper_bgcolor\": \"rgb(243,243,243)\", \"title\": \"Churn in tenure groups\", \"yaxis\": {\"ticklen\": 5, \"gridwidth\": 2, \"zerolinewidth\": 1, \"title\": \"count\", \"gridcolor\": \"rgb(255, 255, 255)\"}, \"plot_bgcolor\": \"rgb(243,243,243)\"}, {\"linkText\": \"Export to plot.ly\", \"showLink\": true})});</script>"
      ]
     },
     "metadata": {},
     "output_type": "display_data"
    }
   ],
   "source": [
    "# Separate churn and non churn customers\n",
    "churn = df[df[\"Churn\"] == \"Yes\"]\n",
    "\n",
    "not_churn = df[df[\"Churn\"] == \"No\"]\n",
    "\n",
    "# Graph customer attrition in tenure groups\n",
    "tg_ch = churn[\"tenure_group\"].value_counts().reset_index()\n",
    "tg_ch.columns = [\"tenure_group\",\"count\"]\n",
    "tg_nch = not_churn[\"tenure_group\"].value_counts().reset_index()\n",
    "tg_nch.columns = [\"tenure_group\",\"count\"]\n",
    "\n",
    "#bar - churn\n",
    "trace1 = go.Bar(x = tg_ch[\"tenure_group\"]  , y = tg_ch[\"count\"],\n",
    "                name = \"Churn Customers\",\n",
    "                marker = dict(line = dict(width = .5,color = \"black\")),\n",
    "                opacity = .9)\n",
    "\n",
    "#bar - not churn\n",
    "trace2 = go.Bar(x = tg_nch[\"tenure_group\"] , y = tg_nch[\"count\"],\n",
    "                name = \"Non Churn Customers\",\n",
    "                marker = dict(line = dict(width = .5,color = \"black\")),\n",
    "                opacity = .9)\n",
    "\n",
    "layout = go.Layout(dict(title = \"Churn in tenure groups\",\n",
    "                        plot_bgcolor  = \"rgb(243,243,243)\",\n",
    "                        paper_bgcolor = \"rgb(243,243,243)\",\n",
    "                        xaxis = dict(gridcolor = 'rgb(255, 255, 255)',\n",
    "                                     title = \"tenure group\",\n",
    "                                     zerolinewidth=1,ticklen=5,gridwidth=2),\n",
    "                        yaxis = dict(gridcolor = 'rgb(255, 255, 255)',\n",
    "                                     title = \"count\",\n",
    "                                     zerolinewidth=1,ticklen=5,gridwidth=2),\n",
    "                       )\n",
    "                  )\n",
    "data = [trace1,trace2]\n",
    "fig  = go.Figure(data=data,layout=layout)\n",
    "py.iplot(fig)"
   ]
  },
  {
   "cell_type": "code",
   "execution_count": 23,
   "metadata": {},
   "outputs": [
    {
     "data": {
      "text/html": [
       "<div>\n",
       "<style scoped>\n",
       "    .dataframe tbody tr th:only-of-type {\n",
       "        vertical-align: middle;\n",
       "    }\n",
       "\n",
       "    .dataframe tbody tr th {\n",
       "        vertical-align: top;\n",
       "    }\n",
       "\n",
       "    .dataframe thead th {\n",
       "        text-align: right;\n",
       "    }\n",
       "</style>\n",
       "<table border=\"1\" class=\"dataframe\">\n",
       "  <thead>\n",
       "    <tr style=\"text-align: right;\">\n",
       "      <th></th>\n",
       "      <th>customerID</th>\n",
       "      <th>gender</th>\n",
       "      <th>SeniorCitizen</th>\n",
       "      <th>Partner</th>\n",
       "      <th>Dependents</th>\n",
       "      <th>PhoneService</th>\n",
       "      <th>MultipleLines</th>\n",
       "      <th>InternetService</th>\n",
       "      <th>OnlineSecurity</th>\n",
       "      <th>OnlineBackup</th>\n",
       "      <th>DeviceProtection</th>\n",
       "      <th>TechSupport</th>\n",
       "      <th>StreamingTV</th>\n",
       "      <th>StreamingMovies</th>\n",
       "      <th>Contract</th>\n",
       "      <th>PaperlessBilling</th>\n",
       "      <th>PaymentMethod</th>\n",
       "      <th>Churn</th>\n",
       "      <th>tenure_group</th>\n",
       "    </tr>\n",
       "  </thead>\n",
       "  <tbody>\n",
       "    <tr>\n",
       "      <th>count</th>\n",
       "      <td>7043</td>\n",
       "      <td>7043</td>\n",
       "      <td>7043</td>\n",
       "      <td>7043</td>\n",
       "      <td>7043</td>\n",
       "      <td>7043</td>\n",
       "      <td>7043</td>\n",
       "      <td>7043</td>\n",
       "      <td>7043</td>\n",
       "      <td>7043</td>\n",
       "      <td>7043</td>\n",
       "      <td>7043</td>\n",
       "      <td>7043</td>\n",
       "      <td>7043</td>\n",
       "      <td>7043</td>\n",
       "      <td>7043</td>\n",
       "      <td>7043</td>\n",
       "      <td>7043</td>\n",
       "      <td>7043</td>\n",
       "    </tr>\n",
       "    <tr>\n",
       "      <th>unique</th>\n",
       "      <td>7043</td>\n",
       "      <td>2</td>\n",
       "      <td>2</td>\n",
       "      <td>2</td>\n",
       "      <td>2</td>\n",
       "      <td>2</td>\n",
       "      <td>3</td>\n",
       "      <td>3</td>\n",
       "      <td>3</td>\n",
       "      <td>3</td>\n",
       "      <td>3</td>\n",
       "      <td>3</td>\n",
       "      <td>3</td>\n",
       "      <td>3</td>\n",
       "      <td>3</td>\n",
       "      <td>2</td>\n",
       "      <td>4</td>\n",
       "      <td>2</td>\n",
       "      <td>5</td>\n",
       "    </tr>\n",
       "    <tr>\n",
       "      <th>top</th>\n",
       "      <td>6993-YCOBK</td>\n",
       "      <td>Male</td>\n",
       "      <td>0</td>\n",
       "      <td>No</td>\n",
       "      <td>No</td>\n",
       "      <td>Yes</td>\n",
       "      <td>No</td>\n",
       "      <td>Fiber optic</td>\n",
       "      <td>No</td>\n",
       "      <td>No</td>\n",
       "      <td>No</td>\n",
       "      <td>No</td>\n",
       "      <td>No</td>\n",
       "      <td>No</td>\n",
       "      <td>Month-to-month</td>\n",
       "      <td>Yes</td>\n",
       "      <td>Electronic check</td>\n",
       "      <td>No</td>\n",
       "      <td>Tenure_0-12</td>\n",
       "    </tr>\n",
       "    <tr>\n",
       "      <th>freq</th>\n",
       "      <td>1</td>\n",
       "      <td>3555</td>\n",
       "      <td>5901</td>\n",
       "      <td>3641</td>\n",
       "      <td>4933</td>\n",
       "      <td>6361</td>\n",
       "      <td>3390</td>\n",
       "      <td>3096</td>\n",
       "      <td>3498</td>\n",
       "      <td>3088</td>\n",
       "      <td>3095</td>\n",
       "      <td>3473</td>\n",
       "      <td>2810</td>\n",
       "      <td>2785</td>\n",
       "      <td>3875</td>\n",
       "      <td>4171</td>\n",
       "      <td>2365</td>\n",
       "      <td>5174</td>\n",
       "      <td>2186</td>\n",
       "    </tr>\n",
       "  </tbody>\n",
       "</table>\n",
       "</div>"
      ],
      "text/plain": [
       "        customerID gender  SeniorCitizen Partner Dependents PhoneService  \\\n",
       "count         7043   7043           7043    7043       7043         7043   \n",
       "unique        7043      2              2       2          2            2   \n",
       "top     6993-YCOBK   Male              0      No         No          Yes   \n",
       "freq             1   3555           5901    3641       4933         6361   \n",
       "\n",
       "       MultipleLines InternetService OnlineSecurity OnlineBackup  \\\n",
       "count           7043            7043           7043         7043   \n",
       "unique             3               3              3            3   \n",
       "top               No     Fiber optic             No           No   \n",
       "freq            3390            3096           3498         3088   \n",
       "\n",
       "       DeviceProtection TechSupport StreamingTV StreamingMovies  \\\n",
       "count              7043        7043        7043            7043   \n",
       "unique                3           3           3               3   \n",
       "top                  No          No          No              No   \n",
       "freq               3095        3473        2810            2785   \n",
       "\n",
       "              Contract PaperlessBilling     PaymentMethod Churn tenure_group  \n",
       "count             7043             7043              7043  7043         7043  \n",
       "unique               3                2                 4     2            5  \n",
       "top     Month-to-month              Yes  Electronic check    No  Tenure_0-12  \n",
       "freq              3875             4171              2365  5174         2186  "
      ]
     },
     "execution_count": 23,
     "metadata": {},
     "output_type": "execute_result"
    }
   ],
   "source": [
    "# Now let's look at the non-numerical variables\n",
    "\n",
    "df.describe(include='object')"
   ]
  },
  {
   "cell_type": "code",
   "execution_count": 24,
   "metadata": {},
   "outputs": [
    {
     "data": {
      "text/html": [
       "<div>\n",
       "<style scoped>\n",
       "    .dataframe tbody tr th:only-of-type {\n",
       "        vertical-align: middle;\n",
       "    }\n",
       "\n",
       "    .dataframe tbody tr th {\n",
       "        vertical-align: top;\n",
       "    }\n",
       "\n",
       "    .dataframe thead th {\n",
       "        text-align: right;\n",
       "    }\n",
       "</style>\n",
       "<table border=\"1\" class=\"dataframe\">\n",
       "  <thead>\n",
       "    <tr style=\"text-align: right;\">\n",
       "      <th>SeniorCitizen</th>\n",
       "      <th>0</th>\n",
       "      <th>1</th>\n",
       "      <th>All</th>\n",
       "    </tr>\n",
       "    <tr>\n",
       "      <th>Churn</th>\n",
       "      <th></th>\n",
       "      <th></th>\n",
       "      <th></th>\n",
       "    </tr>\n",
       "  </thead>\n",
       "  <tbody>\n",
       "    <tr>\n",
       "      <th>No</th>\n",
       "      <td>4508</td>\n",
       "      <td>666</td>\n",
       "      <td>5174</td>\n",
       "    </tr>\n",
       "    <tr>\n",
       "      <th>Yes</th>\n",
       "      <td>1393</td>\n",
       "      <td>476</td>\n",
       "      <td>1869</td>\n",
       "    </tr>\n",
       "    <tr>\n",
       "      <th>All</th>\n",
       "      <td>5901</td>\n",
       "      <td>1142</td>\n",
       "      <td>7043</td>\n",
       "    </tr>\n",
       "  </tbody>\n",
       "</table>\n",
       "</div>"
      ],
      "text/plain": [
       "SeniorCitizen     0     1   All\n",
       "Churn                          \n",
       "No             4508   666  5174\n",
       "Yes            1393   476  1869\n",
       "All            5901  1142  7043"
      ]
     },
     "execution_count": 24,
     "metadata": {},
     "output_type": "execute_result"
    }
   ],
   "source": [
    "# Let's see if a gender or age makes customer more likely to churn:\n",
    "\n",
    "pd.crosstab(df.Churn, df.SeniorCitizen,\n",
    "            margins = True)"
   ]
  },
  {
   "cell_type": "code",
   "execution_count": 25,
   "metadata": {},
   "outputs": [
    {
     "data": {
      "text/plain": [
       "0    0.837853\n",
       "1    0.162147\n",
       "Name: SeniorCitizen, dtype: float64"
      ]
     },
     "execution_count": 25,
     "metadata": {},
     "output_type": "execute_result"
    }
   ],
   "source": [
    "df.SeniorCitizen.value_counts(normalize = True)"
   ]
  },
  {
   "cell_type": "code",
   "execution_count": 26,
   "metadata": {},
   "outputs": [
    {
     "name": "stdout",
     "output_type": "stream",
     "text": [
      "The percentage of senior citizen customers who leave the company: 41.68126094570928%\n",
      "The percentage of non-senior citizen customers who leave the company: 23.606168446026096%\n"
     ]
    }
   ],
   "source": [
    "print('The percentage of senior citizen customers who leave the company: {}%'.format(476/1142*100))\n",
    "print('The percentage of non-senior citizen customers who leave the company: {}%'.format(1393/5901*100))"
   ]
  },
  {
   "cell_type": "code",
   "execution_count": 27,
   "metadata": {},
   "outputs": [
    {
     "data": {
      "application/vnd.plotly.v1+json": {
       "data": [
        {
         "marker": {
          "line": {
           "color": "black",
           "width": 0.5
          }
         },
         "name": "Churn Senior Citizens",
         "opacity": 0.9,
         "type": "bar",
         "uid": "1ffe941c-e6f1-11e8-90d2-e470b8e32c80",
         "x": [
          0,
          1
         ],
         "y": [
          1393,
          476
         ]
        },
        {
         "marker": {
          "line": {
           "color": "black",
           "width": 0.5
          }
         },
         "name": "Non Churn Senior Citizens",
         "opacity": 0.9,
         "type": "bar",
         "uid": "1ffe9b60-e6f1-11e8-90d2-e470b8e32c80",
         "x": [
          0,
          1
         ],
         "y": [
          4508,
          666
         ]
        }
       ],
       "layout": {
        "paper_bgcolor": "rgb(243,243,243)",
        "plot_bgcolor": "rgb(243,243,243)",
        "title": "Customer attrition in senior citizens",
        "xaxis": {
         "gridcolor": "rgb(255, 255, 255)",
         "gridwidth": 2,
         "ticklen": 5,
         "title": "Senior Citizen",
         "zerolinewidth": 1
        },
        "yaxis": {
         "gridcolor": "rgb(255, 255, 255)",
         "gridwidth": 2,
         "ticklen": 5,
         "title": "count",
         "zerolinewidth": 1
        }
       }
      },
      "text/html": [
       "<div id=\"5b91d715-2119-42eb-8427-5bebb1276e21\" style=\"height: 525px; width: 100%;\" class=\"plotly-graph-div\"></div><script type=\"text/javascript\">require([\"plotly\"], function(Plotly) { window.PLOTLYENV=window.PLOTLYENV || {};window.PLOTLYENV.BASE_URL=\"https://plot.ly\";Plotly.newPlot(\"5b91d715-2119-42eb-8427-5bebb1276e21\", [{\"type\": \"bar\", \"marker\": {\"line\": {\"width\": 0.5, \"color\": \"black\"}}, \"name\": \"Churn Senior Citizens\", \"x\": [0, 1], \"opacity\": 0.9, \"uid\": \"1ffe941c-e6f1-11e8-90d2-e470b8e32c80\", \"y\": [1393, 476]}, {\"type\": \"bar\", \"marker\": {\"line\": {\"width\": 0.5, \"color\": \"black\"}}, \"name\": \"Non Churn Senior Citizens\", \"x\": [0, 1], \"opacity\": 0.9, \"uid\": \"1ffe9b60-e6f1-11e8-90d2-e470b8e32c80\", \"y\": [4508, 666]}], {\"xaxis\": {\"ticklen\": 5, \"gridwidth\": 2, \"zerolinewidth\": 1, \"title\": \"Senior Citizen\", \"gridcolor\": \"rgb(255, 255, 255)\"}, \"paper_bgcolor\": \"rgb(243,243,243)\", \"title\": \"Customer attrition in senior citizens\", \"yaxis\": {\"ticklen\": 5, \"gridwidth\": 2, \"zerolinewidth\": 1, \"title\": \"count\", \"gridcolor\": \"rgb(255, 255, 255)\"}, \"plot_bgcolor\": \"rgb(243,243,243)\"}, {\"linkText\": \"Export to plot.ly\", \"showLink\": true})});</script>"
      ],
      "text/vnd.plotly.v1+html": [
       "<div id=\"5b91d715-2119-42eb-8427-5bebb1276e21\" style=\"height: 525px; width: 100%;\" class=\"plotly-graph-div\"></div><script type=\"text/javascript\">require([\"plotly\"], function(Plotly) { window.PLOTLYENV=window.PLOTLYENV || {};window.PLOTLYENV.BASE_URL=\"https://plot.ly\";Plotly.newPlot(\"5b91d715-2119-42eb-8427-5bebb1276e21\", [{\"type\": \"bar\", \"marker\": {\"line\": {\"width\": 0.5, \"color\": \"black\"}}, \"name\": \"Churn Senior Citizens\", \"x\": [0, 1], \"opacity\": 0.9, \"uid\": \"1ffe941c-e6f1-11e8-90d2-e470b8e32c80\", \"y\": [1393, 476]}, {\"type\": \"bar\", \"marker\": {\"line\": {\"width\": 0.5, \"color\": \"black\"}}, \"name\": \"Non Churn Senior Citizens\", \"x\": [0, 1], \"opacity\": 0.9, \"uid\": \"1ffe9b60-e6f1-11e8-90d2-e470b8e32c80\", \"y\": [4508, 666]}], {\"xaxis\": {\"ticklen\": 5, \"gridwidth\": 2, \"zerolinewidth\": 1, \"title\": \"Senior Citizen\", \"gridcolor\": \"rgb(255, 255, 255)\"}, \"paper_bgcolor\": \"rgb(243,243,243)\", \"title\": \"Customer attrition in senior citizens\", \"yaxis\": {\"ticklen\": 5, \"gridwidth\": 2, \"zerolinewidth\": 1, \"title\": \"count\", \"gridcolor\": \"rgb(255, 255, 255)\"}, \"plot_bgcolor\": \"rgb(243,243,243)\"}, {\"linkText\": \"Export to plot.ly\", \"showLink\": true})});</script>"
      ]
     },
     "metadata": {},
     "output_type": "display_data"
    }
   ],
   "source": [
    "# Graph customer attrition in tenure groups\n",
    "tg_ch = churn[\"SeniorCitizen\"].value_counts().reset_index()\n",
    "tg_ch.columns = [\"SeniorCitizen\",\"count\"]\n",
    "tg_nch = not_churn[\"SeniorCitizen\"].value_counts().reset_index()\n",
    "tg_nch.columns = [\"SeniorCitizen\",\"count\"]\n",
    "\n",
    "#bar - churn\n",
    "trace1 = go.Bar(x = tg_ch[\"SeniorCitizen\"]  , y = tg_ch[\"count\"],\n",
    "                name = \"Churn Senior Citizens\",\n",
    "                marker = dict(line = dict(width = .5,color = \"black\")),\n",
    "                opacity = .9)\n",
    "\n",
    "#bar - not churn\n",
    "trace2 = go.Bar(x = tg_nch[\"SeniorCitizen\"] , y = tg_nch[\"count\"],\n",
    "                name = \"Non Churn Senior Citizens\",\n",
    "                marker = dict(line = dict(width = .5,color = \"black\")),\n",
    "                opacity = .9)\n",
    "\n",
    "layout = go.Layout(dict(title = \"Customer attrition in senior citizens\",\n",
    "                        plot_bgcolor  = \"rgb(243,243,243)\",\n",
    "                        paper_bgcolor = \"rgb(243,243,243)\",\n",
    "                        xaxis = dict(gridcolor = 'rgb(255, 255, 255)',\n",
    "                                     title = \"Senior Citizen\",\n",
    "                                     zerolinewidth=1,ticklen=5,gridwidth=2),\n",
    "                        yaxis = dict(gridcolor = 'rgb(255, 255, 255)',\n",
    "                                     title = \"count\",\n",
    "                                     zerolinewidth=1,ticklen=5,gridwidth=2),\n",
    "                       )\n",
    "                  )\n",
    "data = [trace1,trace2]\n",
    "fig  = go.Figure(data=data,layout=layout)\n",
    "py.iplot(fig)"
   ]
  },
  {
   "cell_type": "code",
   "execution_count": 28,
   "metadata": {},
   "outputs": [
    {
     "data": {
      "image/png": "[encoded data removed]",
      "text/plain": [
       "<Figure size 432x288 with 1 Axes>"
      ]
     },
     "metadata": {},
     "output_type": "display_data"
    }
   ],
   "source": [
    "labels = 'Churn', 'Non-Churn'\n",
    "sizes = [476, 666]\n",
    "explode = (0.1, 0)\n",
    "\n",
    "fig1, ax1 = plt.subplots()\n",
    "ax1.pie(sizes, explode=explode, labels=labels, autopct='%1.1f%%',\n",
    "        shadow=True, startangle=90)\n",
    "ax1.axis('equal')\n",
    "plt.title('Senior Citizens')\n",
    "plt.show()"
   ]
  },
  {
   "cell_type": "code",
   "execution_count": 29,
   "metadata": {},
   "outputs": [
    {
     "data": {
      "image/png": "[encoded data removed]",
      "text/plain": [
       "<Figure size 432x288 with 1 Axes>"
      ]
     },
     "metadata": {},
     "output_type": "display_data"
    }
   ],
   "source": [
    "labels = 'Churn', 'Non-Churn'\n",
    "sizes = [1393, 4508]\n",
    "explode = (0.1, 0)\n",
    "\n",
    "fig1, ax1 = plt.subplots()\n",
    "ax1.pie(sizes, explode=explode, labels=labels, autopct='%1.1f%%',\n",
    "        shadow=True, startangle=90)\n",
    "ax1.axis('equal')\n",
    "plt.title('Non-Senior Citizens')\n",
    "plt.show()"
   ]
  },
  {
   "cell_type": "code",
   "execution_count": 30,
   "metadata": {},
   "outputs": [
    {
     "data": {
      "text/html": [
       "<div>\n",
       "<style scoped>\n",
       "    .dataframe tbody tr th:only-of-type {\n",
       "        vertical-align: middle;\n",
       "    }\n",
       "\n",
       "    .dataframe tbody tr th {\n",
       "        vertical-align: top;\n",
       "    }\n",
       "\n",
       "    .dataframe thead th {\n",
       "        text-align: right;\n",
       "    }\n",
       "</style>\n",
       "<table border=\"1\" class=\"dataframe\">\n",
       "  <thead>\n",
       "    <tr style=\"text-align: right;\">\n",
       "      <th>gender</th>\n",
       "      <th>Female</th>\n",
       "      <th>Male</th>\n",
       "      <th>All</th>\n",
       "    </tr>\n",
       "    <tr>\n",
       "      <th>Churn</th>\n",
       "      <th></th>\n",
       "      <th></th>\n",
       "      <th></th>\n",
       "    </tr>\n",
       "  </thead>\n",
       "  <tbody>\n",
       "    <tr>\n",
       "      <th>No</th>\n",
       "      <td>2549</td>\n",
       "      <td>2625</td>\n",
       "      <td>5174</td>\n",
       "    </tr>\n",
       "    <tr>\n",
       "      <th>Yes</th>\n",
       "      <td>939</td>\n",
       "      <td>930</td>\n",
       "      <td>1869</td>\n",
       "    </tr>\n",
       "    <tr>\n",
       "      <th>All</th>\n",
       "      <td>3488</td>\n",
       "      <td>3555</td>\n",
       "      <td>7043</td>\n",
       "    </tr>\n",
       "  </tbody>\n",
       "</table>\n",
       "</div>"
      ],
      "text/plain": [
       "gender  Female  Male   All\n",
       "Churn                     \n",
       "No        2549  2625  5174\n",
       "Yes        939   930  1869\n",
       "All       3488  3555  7043"
      ]
     },
     "execution_count": 30,
     "metadata": {},
     "output_type": "execute_result"
    }
   ],
   "source": [
    "pd.crosstab(df.Churn, df.gender,\n",
    "            margins = True)"
   ]
  },
  {
   "cell_type": "code",
   "execution_count": 31,
   "metadata": {},
   "outputs": [
    {
     "name": "stdout",
     "output_type": "stream",
     "text": [
      "The percentage of male customers who leave the company: 26.160337552742618%\n",
      "The percentage of female customers who leave the company: 26.920871559633024%\n"
     ]
    }
   ],
   "source": [
    "print('The percentage of male customers who leave the company: {}%'.format(930/3555*100))\n",
    "print('The percentage of female customers who leave the company: {}%'.format(939/3488*100))"
   ]
  },
  {
   "cell_type": "code",
   "execution_count": 32,
   "metadata": {},
   "outputs": [
    {
     "data": {
      "text/plain": [
       "<matplotlib.axes._subplots.AxesSubplot at 0x7fa6cb6a7d30>"
      ]
     },
     "execution_count": 32,
     "metadata": {},
     "output_type": "execute_result"
    },
    {
     "data": {
      "image/png": "[encoded data removed]",
      "text/plain": [
       "<Figure size 720x720 with 1 Axes>"
      ]
     },
     "metadata": {},
     "output_type": "display_data"
    }
   ],
   "source": [
    "plt.figure(figsize = (10,10))\n",
    "sns.set(style = 'whitegrid')\n",
    "\n",
    "sns.countplot(df.gender, hue = df.Churn)"
   ]
  },
  {
   "cell_type": "code",
   "execution_count": 33,
   "metadata": {},
   "outputs": [
    {
     "data": {
      "text/html": [
       "<div>\n",
       "<style scoped>\n",
       "    .dataframe tbody tr th:only-of-type {\n",
       "        vertical-align: middle;\n",
       "    }\n",
       "\n",
       "    .dataframe tbody tr th {\n",
       "        vertical-align: top;\n",
       "    }\n",
       "\n",
       "    .dataframe thead th {\n",
       "        text-align: right;\n",
       "    }\n",
       "</style>\n",
       "<table border=\"1\" class=\"dataframe\">\n",
       "  <thead>\n",
       "    <tr style=\"text-align: right;\">\n",
       "      <th>Contract</th>\n",
       "      <th>Month-to-month</th>\n",
       "      <th>One year</th>\n",
       "      <th>Two year</th>\n",
       "      <th>All</th>\n",
       "    </tr>\n",
       "    <tr>\n",
       "      <th>Churn</th>\n",
       "      <th></th>\n",
       "      <th></th>\n",
       "      <th></th>\n",
       "      <th></th>\n",
       "    </tr>\n",
       "  </thead>\n",
       "  <tbody>\n",
       "    <tr>\n",
       "      <th>No</th>\n",
       "      <td>2220</td>\n",
       "      <td>1307</td>\n",
       "      <td>1647</td>\n",
       "      <td>5174</td>\n",
       "    </tr>\n",
       "    <tr>\n",
       "      <th>Yes</th>\n",
       "      <td>1655</td>\n",
       "      <td>166</td>\n",
       "      <td>48</td>\n",
       "      <td>1869</td>\n",
       "    </tr>\n",
       "    <tr>\n",
       "      <th>All</th>\n",
       "      <td>3875</td>\n",
       "      <td>1473</td>\n",
       "      <td>1695</td>\n",
       "      <td>7043</td>\n",
       "    </tr>\n",
       "  </tbody>\n",
       "</table>\n",
       "</div>"
      ],
      "text/plain": [
       "Contract  Month-to-month  One year  Two year   All\n",
       "Churn                                             \n",
       "No                  2220      1307      1647  5174\n",
       "Yes                 1655       166        48  1869\n",
       "All                 3875      1473      1695  7043"
      ]
     },
     "execution_count": 33,
     "metadata": {},
     "output_type": "execute_result"
    }
   ],
   "source": [
    "# Is there a relationship between contract type and churn?\n",
    "\n",
    "pd.crosstab(df.Churn, df.Contract,\n",
    "            margins = True)"
   ]
  },
  {
   "cell_type": "code",
   "execution_count": 34,
   "metadata": {},
   "outputs": [
    {
     "name": "stdout",
     "output_type": "stream",
     "text": [
      "The percentage of M2M customers who leave the company: 42.70967741935484%\n",
      "The percentage of One-Year customers who leave the company: 11.269517990495586%\n",
      "The percentage of two-Year customers who leave the company: 2.831858407079646%\n"
     ]
    }
   ],
   "source": [
    "print('The percentage of M2M customers who leave the company: {}%'.format(1655/3875*100))\n",
    "print('The percentage of One-Year customers who leave the company: {}%'.format(166/1473*100))\n",
    "print('The percentage of two-Year customers who leave the company: {}%'.format(48/1695*100))"
   ]
  },
  {
   "cell_type": "code",
   "execution_count": 35,
   "metadata": {},
   "outputs": [
    {
     "data": {
      "text/plain": [
       "<matplotlib.axes._subplots.AxesSubplot at 0x7fa6cbfc5668>"
      ]
     },
     "execution_count": 35,
     "metadata": {},
     "output_type": "execute_result"
    },
    {
     "data": {
      "image/png": "[encoded data removed]",
      "text/plain": [
       "<Figure size 720x720 with 1 Axes>"
      ]
     },
     "metadata": {},
     "output_type": "display_data"
    }
   ],
   "source": [
    "plt.figure(figsize = (10,10))\n",
    "sns.set(style = 'whitegrid')\n",
    "\n",
    "sns.countplot(df.Contract, hue = df.Churn)"
   ]
  },
  {
   "cell_type": "code",
   "execution_count": 36,
   "metadata": {},
   "outputs": [
    {
     "data": {
      "text/html": [
       "<div>\n",
       "<style scoped>\n",
       "    .dataframe tbody tr th:only-of-type {\n",
       "        vertical-align: middle;\n",
       "    }\n",
       "\n",
       "    .dataframe tbody tr th {\n",
       "        vertical-align: top;\n",
       "    }\n",
       "\n",
       "    .dataframe thead th {\n",
       "        text-align: right;\n",
       "    }\n",
       "</style>\n",
       "<table border=\"1\" class=\"dataframe\">\n",
       "  <thead>\n",
       "    <tr style=\"text-align: right;\">\n",
       "      <th>SeniorCitizen</th>\n",
       "      <th>0</th>\n",
       "      <th>1</th>\n",
       "      <th>All</th>\n",
       "    </tr>\n",
       "    <tr>\n",
       "      <th>Contract</th>\n",
       "      <th></th>\n",
       "      <th></th>\n",
       "      <th></th>\n",
       "    </tr>\n",
       "  </thead>\n",
       "  <tbody>\n",
       "    <tr>\n",
       "      <th>Month-to-month</th>\n",
       "      <td>3068</td>\n",
       "      <td>807</td>\n",
       "      <td>3875</td>\n",
       "    </tr>\n",
       "    <tr>\n",
       "      <th>One year</th>\n",
       "      <td>1283</td>\n",
       "      <td>190</td>\n",
       "      <td>1473</td>\n",
       "    </tr>\n",
       "    <tr>\n",
       "      <th>Two year</th>\n",
       "      <td>1550</td>\n",
       "      <td>145</td>\n",
       "      <td>1695</td>\n",
       "    </tr>\n",
       "    <tr>\n",
       "      <th>All</th>\n",
       "      <td>5901</td>\n",
       "      <td>1142</td>\n",
       "      <td>7043</td>\n",
       "    </tr>\n",
       "  </tbody>\n",
       "</table>\n",
       "</div>"
      ],
      "text/plain": [
       "SeniorCitizen      0     1   All\n",
       "Contract                        \n",
       "Month-to-month  3068   807  3875\n",
       "One year        1283   190  1473\n",
       "Two year        1550   145  1695\n",
       "All             5901  1142  7043"
      ]
     },
     "execution_count": 36,
     "metadata": {},
     "output_type": "execute_result"
    }
   ],
   "source": [
    "pd.crosstab(df.Contract, df.SeniorCitizen,\n",
    "            margins = True)"
   ]
  },
  {
   "cell_type": "code",
   "execution_count": 37,
   "metadata": {},
   "outputs": [
    {
     "name": "stdout",
     "output_type": "stream",
     "text": [
      "The percentage of senior citizen customers who have M2M contract: 70.66549912434326%\n",
      "The percentage of non-senior citizen customers who have M2M contract: 51.99118793424843%\n"
     ]
    }
   ],
   "source": [
    "print('The percentage of senior citizen customers who have M2M contract: {}%'.format(807/1142*100))\n",
    "print('The percentage of non-senior citizen customers who have M2M contract: {}%'.format(3068/5901*100))"
   ]
  },
  {
   "cell_type": "code",
   "execution_count": 38,
   "metadata": {},
   "outputs": [
    {
     "data": {
      "text/plain": [
       "<matplotlib.axes._subplots.AxesSubplot at 0x7fa6cb6be9b0>"
      ]
     },
     "execution_count": 38,
     "metadata": {},
     "output_type": "execute_result"
    },
    {
     "data": {
      "image/png": "[encoded data removed]",
      "text/plain": [
       "<Figure size 720x720 with 1 Axes>"
      ]
     },
     "metadata": {},
     "output_type": "display_data"
    }
   ],
   "source": [
    "plt.figure(figsize = (10,10))\n",
    "sns.set(style = 'whitegrid')\n",
    "\n",
    "sns.countplot(df.SeniorCitizen, hue = df.Contract)"
   ]
  },
  {
   "cell_type": "code",
   "execution_count": 39,
   "metadata": {},
   "outputs": [
    {
     "data": {
      "text/html": [
       "<div>\n",
       "<style scoped>\n",
       "    .dataframe tbody tr th:only-of-type {\n",
       "        vertical-align: middle;\n",
       "    }\n",
       "\n",
       "    .dataframe tbody tr th {\n",
       "        vertical-align: top;\n",
       "    }\n",
       "\n",
       "    .dataframe thead th {\n",
       "        text-align: right;\n",
       "    }\n",
       "</style>\n",
       "<table border=\"1\" class=\"dataframe\">\n",
       "  <thead>\n",
       "    <tr style=\"text-align: right;\">\n",
       "      <th></th>\n",
       "      <th>tenure</th>\n",
       "      <th>MonthlyCharges</th>\n",
       "      <th>TotalCharges</th>\n",
       "    </tr>\n",
       "    <tr>\n",
       "      <th>Contract</th>\n",
       "      <th></th>\n",
       "      <th></th>\n",
       "      <th></th>\n",
       "    </tr>\n",
       "  </thead>\n",
       "  <tbody>\n",
       "    <tr>\n",
       "      <th>Month-to-month</th>\n",
       "      <td>18.0</td>\n",
       "      <td>66.0</td>\n",
       "      <td>1369.0</td>\n",
       "    </tr>\n",
       "    <tr>\n",
       "      <th>One year</th>\n",
       "      <td>42.0</td>\n",
       "      <td>65.0</td>\n",
       "      <td>3033.0</td>\n",
       "    </tr>\n",
       "    <tr>\n",
       "      <th>Two year</th>\n",
       "      <td>57.0</td>\n",
       "      <td>61.0</td>\n",
       "      <td>3707.0</td>\n",
       "    </tr>\n",
       "  </tbody>\n",
       "</table>\n",
       "</div>"
      ],
      "text/plain": [
       "                tenure  MonthlyCharges  TotalCharges\n",
       "Contract                                            \n",
       "Month-to-month    18.0            66.0        1369.0\n",
       "One year          42.0            65.0        3033.0\n",
       "Two year          57.0            61.0        3707.0"
      ]
     },
     "execution_count": 39,
     "metadata": {},
     "output_type": "execute_result"
    }
   ],
   "source": [
    "# Average spend for different contract types customers:\n",
    "media_mes_idade = df.groupby('Contract').mean() \n",
    "media_mes_idade.round()"
   ]
  },
  {
   "cell_type": "code",
   "execution_count": 40,
   "metadata": {},
   "outputs": [
    {
     "data": {
      "text/html": [
       "<div>\n",
       "<style scoped>\n",
       "    .dataframe tbody tr th:only-of-type {\n",
       "        vertical-align: middle;\n",
       "    }\n",
       "\n",
       "    .dataframe tbody tr th {\n",
       "        vertical-align: top;\n",
       "    }\n",
       "\n",
       "    .dataframe thead th {\n",
       "        text-align: right;\n",
       "    }\n",
       "</style>\n",
       "<table border=\"1\" class=\"dataframe\">\n",
       "  <thead>\n",
       "    <tr style=\"text-align: right;\">\n",
       "      <th></th>\n",
       "      <th>tenure</th>\n",
       "      <th>MonthlyCharges</th>\n",
       "      <th>TotalCharges</th>\n",
       "    </tr>\n",
       "    <tr>\n",
       "      <th>SeniorCitizen</th>\n",
       "      <th></th>\n",
       "      <th></th>\n",
       "      <th></th>\n",
       "    </tr>\n",
       "  </thead>\n",
       "  <tbody>\n",
       "    <tr>\n",
       "      <th>0</th>\n",
       "      <td>32.0</td>\n",
       "      <td>62.0</td>\n",
       "      <td>2177.0</td>\n",
       "    </tr>\n",
       "    <tr>\n",
       "      <th>1</th>\n",
       "      <td>33.0</td>\n",
       "      <td>80.0</td>\n",
       "      <td>2810.0</td>\n",
       "    </tr>\n",
       "  </tbody>\n",
       "</table>\n",
       "</div>"
      ],
      "text/plain": [
       "               tenure  MonthlyCharges  TotalCharges\n",
       "SeniorCitizen                                      \n",
       "0                32.0            62.0        2177.0\n",
       "1                33.0            80.0        2810.0"
      ]
     },
     "execution_count": 40,
     "metadata": {},
     "output_type": "execute_result"
    }
   ],
   "source": [
    "# Average spend for Senior vs non-Senior customers:\n",
    "media_mes_idade = df.groupby('SeniorCitizen').mean() \n",
    "media_mes_idade.round()"
   ]
  },
  {
   "cell_type": "markdown",
   "metadata": {},
   "source": [
    "Some takeaways: although senior citizens are only 16% of the customer base, they churn at a higher rate than non-senior citizen customers. 71% of senior citizens choose M-2-M contracts, which explains why their monthly charges are on average higher than the non-senior citizens (80 vs 62), as M2M contracts are typically more costly."
   ]
  },
  {
   "cell_type": "code",
   "execution_count": 41,
   "metadata": {},
   "outputs": [
    {
     "data": {
      "text/html": [
       "<div>\n",
       "<style scoped>\n",
       "    .dataframe tbody tr th:only-of-type {\n",
       "        vertical-align: middle;\n",
       "    }\n",
       "\n",
       "    .dataframe tbody tr th {\n",
       "        vertical-align: top;\n",
       "    }\n",
       "\n",
       "    .dataframe thead th {\n",
       "        text-align: right;\n",
       "    }\n",
       "</style>\n",
       "<table border=\"1\" class=\"dataframe\">\n",
       "  <thead>\n",
       "    <tr style=\"text-align: right;\">\n",
       "      <th>Partner</th>\n",
       "      <th>No</th>\n",
       "      <th>Yes</th>\n",
       "      <th>All</th>\n",
       "    </tr>\n",
       "    <tr>\n",
       "      <th>Churn</th>\n",
       "      <th></th>\n",
       "      <th></th>\n",
       "      <th></th>\n",
       "    </tr>\n",
       "  </thead>\n",
       "  <tbody>\n",
       "    <tr>\n",
       "      <th>No</th>\n",
       "      <td>2441</td>\n",
       "      <td>2733</td>\n",
       "      <td>5174</td>\n",
       "    </tr>\n",
       "    <tr>\n",
       "      <th>Yes</th>\n",
       "      <td>1200</td>\n",
       "      <td>669</td>\n",
       "      <td>1869</td>\n",
       "    </tr>\n",
       "    <tr>\n",
       "      <th>All</th>\n",
       "      <td>3641</td>\n",
       "      <td>3402</td>\n",
       "      <td>7043</td>\n",
       "    </tr>\n",
       "  </tbody>\n",
       "</table>\n",
       "</div>"
      ],
      "text/plain": [
       "Partner    No   Yes   All\n",
       "Churn                    \n",
       "No       2441  2733  5174\n",
       "Yes      1200   669  1869\n",
       "All      3641  3402  7043"
      ]
     },
     "execution_count": 41,
     "metadata": {},
     "output_type": "execute_result"
    }
   ],
   "source": [
    "pd.crosstab(df.Churn, df.Partner,\n",
    "            margins = True)"
   ]
  },
  {
   "cell_type": "code",
   "execution_count": 42,
   "metadata": {},
   "outputs": [
    {
     "data": {
      "text/plain": [
       "<matplotlib.axes._subplots.AxesSubplot at 0x7fa6c7ec3080>"
      ]
     },
     "execution_count": 42,
     "metadata": {},
     "output_type": "execute_result"
    },
    {
     "data": {
      "image/png": "[encoded data removed]",
      "text/plain": [
       "<Figure size 720x720 with 1 Axes>"
      ]
     },
     "metadata": {},
     "output_type": "display_data"
    }
   ],
   "source": [
    "plt.figure(figsize = (10,10))\n",
    "sns.set(style = 'whitegrid')\n",
    "\n",
    "sns.countplot(df.Partner, hue = df.Churn)"
   ]
  },
  {
   "cell_type": "markdown",
   "metadata": {},
   "source": [
    "## Correlation & Variable Importances"
   ]
  },
  {
   "cell_type": "code",
   "execution_count": 43,
   "metadata": {},
   "outputs": [],
   "source": [
    "# Create dummies\n",
    "df['Churn'] = 'Churn_' + df['Churn'].map(str)\n",
    "churn_dummies = pd.get_dummies(df['Churn'])\n",
    "\n",
    "df['SeniorCitizen'] = 'SeniorCitizen_' + df['SeniorCitizen'].map(str)\n",
    "seniorcitizen_dummies = pd.get_dummies(df['SeniorCitizen'])\n",
    "\n",
    "df['gender'] = 'gender_' + df['gender'].map(str)\n",
    "gender_dummies = pd.get_dummies(df['gender'])\n",
    "\n",
    "df['Contract'] = 'Contract_' + df['Contract'].map(str)\n",
    "contract_dummies = pd.get_dummies(df['Contract'])\n",
    "\n",
    "df['Partner'] = 'Partner_' + df['Partner'].map(str)\n",
    "partner_dummies = pd.get_dummies(df['Partner'])\n",
    "\n",
    "df['DeviceProtection'] = 'DeviceProtection_' + df['DeviceProtection'].map(str)\n",
    "protection_dummies = pd.get_dummies(df['DeviceProtection'])\n",
    "\n",
    "df['TechSupport'] = 'TechSupport_' + df['TechSupport'].map(str)\n",
    "techsupport_dummies = pd.get_dummies(df['TechSupport'])\n",
    "\n",
    "df['InternetService'] = 'InternetService_' + df['InternetService'].map(str)\n",
    "service_dummies = pd.get_dummies(df['InternetService'])\n",
    "\n",
    "df['OnlineSecurity'] = 'OnlineSecurity_' + df['OnlineSecurity'].map(str)\n",
    "security_dummies = pd.get_dummies(df['OnlineSecurity'])"
   ]
  },
  {
   "cell_type": "code",
   "execution_count": 44,
   "metadata": {},
   "outputs": [],
   "source": [
    "df = pd.concat([df, churn_dummies, seniorcitizen_dummies, gender_dummies, contract_dummies, partner_dummies, protection_dummies, techsupport_dummies, service_dummies, security_dummies], axis = 1)"
   ]
  },
  {
   "cell_type": "code",
   "execution_count": 45,
   "metadata": {},
   "outputs": [
    {
     "data": {
      "text/plain": [
       "<matplotlib.axes._subplots.AxesSubplot at 0x7fa6c7e83198>"
      ]
     },
     "execution_count": 45,
     "metadata": {},
     "output_type": "execute_result"
    },
    {
     "data": {
      "image/png": "[encoded data removed]",
      "text/plain": [
       "<Figure size 792x648 with 2 Axes>"
      ]
     },
     "metadata": {},
     "output_type": "display_data"
    }
   ],
   "source": [
    "sns.set(style = 'white')\n",
    "\n",
    "# Compute correlation matrix\n",
    "corr = df.corr()\n",
    "\n",
    "# Generate a mask for the upper triangle\n",
    "mask = np.zeros_like(corr, dtype = np.bool)\n",
    "mask[np.triu_indices_from(mask)] = True\n",
    "\n",
    "# Set up the matplotlib figure\n",
    "f, ax = plt.subplots(figsize=(11, 9))\n",
    "\n",
    "# Generate a custom diverging colormap\n",
    "cmap = sns.diverging_palette(220, 10, as_cmap=True)\n",
    "\n",
    "# Draw the heatmap with the mask and correct aspect ratio\n",
    "sns.heatmap(corr, mask=mask, cmap=cmap, vmax=.3, center=0,\n",
    "            square=True, linewidths=.5, cbar_kws={\"shrink\": .5})"
   ]
  },
  {
   "cell_type": "markdown",
   "metadata": {},
   "source": [
    "## Regression"
   ]
  },
  {
   "cell_type": "code",
   "execution_count": 46,
   "metadata": {},
   "outputs": [
    {
     "data": {
      "text/html": [
       "<div>\n",
       "<style scoped>\n",
       "    .dataframe tbody tr th:only-of-type {\n",
       "        vertical-align: middle;\n",
       "    }\n",
       "\n",
       "    .dataframe tbody tr th {\n",
       "        vertical-align: top;\n",
       "    }\n",
       "\n",
       "    .dataframe thead th {\n",
       "        text-align: right;\n",
       "    }\n",
       "</style>\n",
       "<table border=\"1\" class=\"dataframe\">\n",
       "  <thead>\n",
       "    <tr style=\"text-align: right;\">\n",
       "      <th></th>\n",
       "      <th>tenure</th>\n",
       "      <th>MonthlyCharges</th>\n",
       "      <th>TotalCharges</th>\n",
       "      <th>Churn</th>\n",
       "      <th>SeniorCitizen_0</th>\n",
       "      <th>SeniorCitizen_1</th>\n",
       "      <th>gender_Female</th>\n",
       "      <th>gender_Male</th>\n",
       "      <th>Contract_Month-to-month</th>\n",
       "      <th>Contract_One year</th>\n",
       "      <th>...</th>\n",
       "      <th>PaperlessBilling_Yes</th>\n",
       "      <th>PaymentMethod_Bank transfer (automatic)</th>\n",
       "      <th>PaymentMethod_Credit card (automatic)</th>\n",
       "      <th>PaymentMethod_Electronic check</th>\n",
       "      <th>PaymentMethod_Mailed check</th>\n",
       "      <th>tenure_group_Tenure_0-12</th>\n",
       "      <th>tenure_group_Tenure_12-24</th>\n",
       "      <th>tenure_group_Tenure_24-48</th>\n",
       "      <th>tenure_group_Tenure_48-60</th>\n",
       "      <th>tenure_group_Tenure_60+</th>\n",
       "    </tr>\n",
       "  </thead>\n",
       "  <tbody>\n",
       "    <tr>\n",
       "      <th>0</th>\n",
       "      <td>1</td>\n",
       "      <td>29.85</td>\n",
       "      <td>29.85</td>\n",
       "      <td>0</td>\n",
       "      <td>1</td>\n",
       "      <td>0</td>\n",
       "      <td>1</td>\n",
       "      <td>0</td>\n",
       "      <td>1</td>\n",
       "      <td>0</td>\n",
       "      <td>...</td>\n",
       "      <td>1</td>\n",
       "      <td>0</td>\n",
       "      <td>0</td>\n",
       "      <td>1</td>\n",
       "      <td>0</td>\n",
       "      <td>1</td>\n",
       "      <td>0</td>\n",
       "      <td>0</td>\n",
       "      <td>0</td>\n",
       "      <td>0</td>\n",
       "    </tr>\n",
       "    <tr>\n",
       "      <th>1</th>\n",
       "      <td>34</td>\n",
       "      <td>56.95</td>\n",
       "      <td>1889.50</td>\n",
       "      <td>0</td>\n",
       "      <td>1</td>\n",
       "      <td>0</td>\n",
       "      <td>0</td>\n",
       "      <td>1</td>\n",
       "      <td>0</td>\n",
       "      <td>1</td>\n",
       "      <td>...</td>\n",
       "      <td>0</td>\n",
       "      <td>0</td>\n",
       "      <td>0</td>\n",
       "      <td>0</td>\n",
       "      <td>1</td>\n",
       "      <td>0</td>\n",
       "      <td>0</td>\n",
       "      <td>1</td>\n",
       "      <td>0</td>\n",
       "      <td>0</td>\n",
       "    </tr>\n",
       "    <tr>\n",
       "      <th>2</th>\n",
       "      <td>2</td>\n",
       "      <td>53.85</td>\n",
       "      <td>108.15</td>\n",
       "      <td>1</td>\n",
       "      <td>1</td>\n",
       "      <td>0</td>\n",
       "      <td>0</td>\n",
       "      <td>1</td>\n",
       "      <td>1</td>\n",
       "      <td>0</td>\n",
       "      <td>...</td>\n",
       "      <td>1</td>\n",
       "      <td>0</td>\n",
       "      <td>0</td>\n",
       "      <td>0</td>\n",
       "      <td>1</td>\n",
       "      <td>1</td>\n",
       "      <td>0</td>\n",
       "      <td>0</td>\n",
       "      <td>0</td>\n",
       "      <td>0</td>\n",
       "    </tr>\n",
       "    <tr>\n",
       "      <th>3</th>\n",
       "      <td>45</td>\n",
       "      <td>42.30</td>\n",
       "      <td>1840.75</td>\n",
       "      <td>0</td>\n",
       "      <td>1</td>\n",
       "      <td>0</td>\n",
       "      <td>0</td>\n",
       "      <td>1</td>\n",
       "      <td>0</td>\n",
       "      <td>1</td>\n",
       "      <td>...</td>\n",
       "      <td>0</td>\n",
       "      <td>1</td>\n",
       "      <td>0</td>\n",
       "      <td>0</td>\n",
       "      <td>0</td>\n",
       "      <td>0</td>\n",
       "      <td>0</td>\n",
       "      <td>1</td>\n",
       "      <td>0</td>\n",
       "      <td>0</td>\n",
       "    </tr>\n",
       "    <tr>\n",
       "      <th>4</th>\n",
       "      <td>2</td>\n",
       "      <td>70.70</td>\n",
       "      <td>151.65</td>\n",
       "      <td>1</td>\n",
       "      <td>1</td>\n",
       "      <td>0</td>\n",
       "      <td>1</td>\n",
       "      <td>0</td>\n",
       "      <td>1</td>\n",
       "      <td>0</td>\n",
       "      <td>...</td>\n",
       "      <td>1</td>\n",
       "      <td>0</td>\n",
       "      <td>0</td>\n",
       "      <td>1</td>\n",
       "      <td>0</td>\n",
       "      <td>1</td>\n",
       "      <td>0</td>\n",
       "      <td>0</td>\n",
       "      <td>0</td>\n",
       "      <td>0</td>\n",
       "    </tr>\n",
       "  </tbody>\n",
       "</table>\n",
       "<p>5 rows × 73 columns</p>\n",
       "</div>"
      ],
      "text/plain": [
       "   tenure  MonthlyCharges  TotalCharges  Churn  SeniorCitizen_0  \\\n",
       "0       1           29.85         29.85      0                1   \n",
       "1      34           56.95       1889.50      0                1   \n",
       "2       2           53.85        108.15      1                1   \n",
       "3      45           42.30       1840.75      0                1   \n",
       "4       2           70.70        151.65      1                1   \n",
       "\n",
       "   SeniorCitizen_1  gender_Female  gender_Male  Contract_Month-to-month  \\\n",
       "0                0              1            0                        1   \n",
       "1                0              0            1                        0   \n",
       "2                0              0            1                        1   \n",
       "3                0              0            1                        0   \n",
       "4                0              1            0                        1   \n",
       "\n",
       "   Contract_One year           ...             PaperlessBilling_Yes  \\\n",
       "0                  0           ...                                1   \n",
       "1                  1           ...                                0   \n",
       "2                  0           ...                                1   \n",
       "3                  1           ...                                0   \n",
       "4                  0           ...                                1   \n",
       "\n",
       "   PaymentMethod_Bank transfer (automatic)  \\\n",
       "0                                        0   \n",
       "1                                        0   \n",
       "2                                        0   \n",
       "3                                        1   \n",
       "4                                        0   \n",
       "\n",
       "   PaymentMethod_Credit card (automatic)  PaymentMethod_Electronic check  \\\n",
       "0                                      0                               1   \n",
       "1                                      0                               0   \n",
       "2                                      0                               0   \n",
       "3                                      0                               0   \n",
       "4                                      0                               1   \n",
       "\n",
       "   PaymentMethod_Mailed check  tenure_group_Tenure_0-12  \\\n",
       "0                           0                         1   \n",
       "1                           1                         0   \n",
       "2                           1                         1   \n",
       "3                           0                         0   \n",
       "4                           0                         1   \n",
       "\n",
       "   tenure_group_Tenure_12-24  tenure_group_Tenure_24-48  \\\n",
       "0                          0                          0   \n",
       "1                          0                          1   \n",
       "2                          0                          0   \n",
       "3                          0                          1   \n",
       "4                          0                          0   \n",
       "\n",
       "   tenure_group_Tenure_48-60  tenure_group_Tenure_60+  \n",
       "0                          0                        0  \n",
       "1                          0                        0  \n",
       "2                          0                        0  \n",
       "3                          0                        0  \n",
       "4                          0                        0  \n",
       "\n",
       "[5 rows x 73 columns]"
      ]
     },
     "execution_count": 46,
     "metadata": {},
     "output_type": "execute_result"
    }
   ],
   "source": [
    "df.dropna(inplace = True)\n",
    "\n",
    "df2 = df.iloc[:,1:]\n",
    "\n",
    "df2['Churn'].replace(to_replace='Churn_Yes', value=1, inplace=True)\n",
    "df2['Churn'].replace(to_replace='Churn_No',  value=0, inplace=True)\n",
    "\n",
    "# Convert all the categorical variables into dummy variables\n",
    "df_dummies = pd.get_dummies(df2)\n",
    "\n",
    "df_dummies = df_dummies.drop(['Churn_No', 'Churn_Yes'], axis = 1)\n",
    "\n",
    "df_dummies.head()"
   ]
  },
  {
   "cell_type": "code",
   "execution_count": 47,
   "metadata": {},
   "outputs": [
    {
     "name": "stderr",
     "output_type": "stream",
     "text": [
      "/home/asun/.local/lib/python3.5/site-packages/sklearn/preprocessing/data.py:323: DataConversionWarning:\n",
      "\n",
      "Data with input dtype uint8, int64, float64 were all converted to float64 by MinMaxScaler.\n",
      "\n",
      "/home/asun/.local/lib/python3.5/site-packages/sklearn/linear_model/logistic.py:432: FutureWarning:\n",
      "\n",
      "Default solver will be changed to 'lbfgs' in 0.22. Specify a solver to silence this warning.\n",
      "\n"
     ]
    }
   ],
   "source": [
    "# Use the data frame where we had created dummy variables\n",
    "y = df_dummies['Churn'].values\n",
    "X = df_dummies.drop(columns = ['Churn'])\n",
    "\n",
    "# Scale all the variables to a range of 0 to 1\n",
    "from sklearn.preprocessing import MinMaxScaler\n",
    "features = X.columns.values\n",
    "scaler = MinMaxScaler(feature_range = (0,1))\n",
    "scaler.fit(X)\n",
    "X = pd.DataFrame(scaler.transform(X))\n",
    "X.columns = features\n",
    "\n",
    "# Create Train & Test Data\n",
    "from sklearn.model_selection import train_test_split\n",
    "X_train, X_test, y_train, y_test = train_test_split(X, y, test_size=0.3, random_state=101)\n",
    "\n",
    "\n",
    "# Run logistic regression model\n",
    "from sklearn.linear_model import LogisticRegression\n",
    "model = LogisticRegression()\n",
    "result = model.fit(X_train, y_train)"
   ]
  },
  {
   "cell_type": "code",
   "execution_count": 48,
   "metadata": {},
   "outputs": [
    {
     "name": "stdout",
     "output_type": "stream",
     "text": [
      "0.8059630856601988\n"
     ]
    }
   ],
   "source": [
    "from sklearn import metrics\n",
    "prediction_test = model.predict(X_test)\n",
    "\n",
    "print (metrics.accuracy_score(y_test, prediction_test))"
   ]
  },
  {
   "cell_type": "code",
   "execution_count": 49,
   "metadata": {},
   "outputs": [
    {
     "data": {
      "text/plain": [
       "Contract_Contract_Month-to-month                         0.340664\n",
       "Contract_Month-to-month                                  0.340664\n",
       "TotalCharges                                             0.332483\n",
       "PaymentMethod_Electronic check                           0.247835\n",
       "InternetService_Fiber optic                              0.243621\n",
       "InternetService_InternetService_Fiber optic              0.243621\n",
       "tenure_group_Tenure_60+                                  0.189729\n",
       "StreamingTV_Yes                                          0.186785\n",
       "tenure_group_Tenure_0-12                                 0.167800\n",
       "PaperlessBilling_Yes                                     0.130289\n",
       "StreamingMovies_Yes                                      0.114979\n",
       "PhoneService_No                                          0.110916\n",
       "MultipleLines_No phone service                           0.110916\n",
       "OnlineBackup_No                                          0.104011\n",
       "TechSupport_TechSupport_No                               0.084842\n",
       "TechSupport_No                                           0.084842\n",
       "OnlineSecurity_OnlineSecurity_No                         0.066668\n",
       "OnlineSecurity_No                                        0.066668\n",
       "tenure_group_Tenure_48-60                                0.029481\n",
       "MultipleLines_Yes                                        0.023542\n",
       "Contract_Contract_One year                               0.015280\n",
       "Contract_One year                                        0.015280\n",
       "Dependents_No                                            0.013822\n",
       "DeviceProtection_No                                      0.005237\n",
       "DeviceProtection_DeviceProtection_No                     0.005237\n",
       "SeniorCitizen_1                                          0.005236\n",
       "SeniorCitizen_SeniorCitizen_1                            0.005236\n",
       "DeviceProtection_DeviceProtection_Yes                    0.002372\n",
       "DeviceProtection_Yes                                     0.002372\n",
       "PaymentMethod_Mailed check                              -0.020576\n",
       "                                                           ...   \n",
       "TechSupport_Yes                                         -0.077233\n",
       "PaymentMethod_Bank transfer (automatic)                 -0.094442\n",
       "OnlineBackup_Yes                                        -0.096401\n",
       "SeniorCitizen_0                                         -0.098429\n",
       "SeniorCitizen_SeniorCitizen_0                           -0.098429\n",
       "StreamingTV_No internet service                         -0.100802\n",
       "TechSupport_TechSupport_No internet service             -0.100802\n",
       "DeviceProtection_No internet service                    -0.100802\n",
       "DeviceProtection_DeviceProtection_No internet service   -0.100802\n",
       "TechSupport_No internet service                         -0.100802\n",
       "InternetService_InternetService_No                      -0.100802\n",
       "InternetService_No                                      -0.100802\n",
       "OnlineBackup_No internet service                        -0.100802\n",
       "OnlineSecurity_No internet service                      -0.100802\n",
       "StreamingMovies_No internet service                     -0.100802\n",
       "OnlineSecurity_OnlineSecurity_No internet service       -0.100802\n",
       "Dependents_Yes                                          -0.107015\n",
       "StreamingMovies_No                                      -0.107369\n",
       "StreamingTV_No                                          -0.179175\n",
       "tenure_group_Tenure_24-48                               -0.198112\n",
       "PhoneService_Yes                                        -0.204109\n",
       "PaperlessBilling_No                                     -0.223482\n",
       "PaymentMethod_Credit card (automatic)                   -0.226009\n",
       "MultipleLines_No                                        -0.227651\n",
       "InternetService_DSL                                     -0.236012\n",
       "InternetService_InternetService_DSL                     -0.236012\n",
       "tenure_group_Tenure_12-24                               -0.282091\n",
       "Contract_Two year                                       -0.449137\n",
       "Contract_Contract_Two year                              -0.449137\n",
       "tenure                                                  -2.429762\n",
       "Length: 72, dtype: float64"
      ]
     },
     "execution_count": 49,
     "metadata": {},
     "output_type": "execute_result"
    }
   ],
   "source": [
    "# Get the weights of all the variables\n",
    "weights = pd.Series(model.coef_[0],\n",
    "                 index=X.columns.values)\n",
    "weights.sort_values(ascending = False)"
   ]
  },
  {
   "cell_type": "code",
   "execution_count": null,
   "metadata": {},
   "outputs": [],
   "source": []
  }
 ],
 "metadata": {
  "kernelspec": {
   "display_name": "Python 3",
   "language": "python",
   "name": "python3"
  },
  "language_info": {
   "codemirror_mode": {
    "name": "ipython",
    "version": 3
   },
   "file_extension": ".py",
   "mimetype": "text/x-python",
   "name": "python",
   "nbconvert_exporter": "python",
   "pygments_lexer": "ipython3",
   "version": "3.5.2"
  }
 },
 "nbformat": 4,
 "nbformat_minor": 2
}
